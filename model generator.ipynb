{
 "cells": [
  {
   "cell_type": "code",
   "execution_count": 1,
   "metadata": {},
   "outputs": [],
   "source": [
    "import pandas as pd"
   ]
  },
  {
   "cell_type": "code",
   "execution_count": 2,
   "metadata": {},
   "outputs": [],
   "source": [
    "data = pd.read_csv('data/advertising_regression.csv')"
   ]
  },
  {
   "cell_type": "code",
   "execution_count": 3,
   "metadata": {},
   "outputs": [
    {
     "data": {
      "text/html": [
       "<div>\n",
       "<style scoped>\n",
       "    .dataframe tbody tr th:only-of-type {\n",
       "        vertical-align: middle;\n",
       "    }\n",
       "\n",
       "    .dataframe tbody tr th {\n",
       "        vertical-align: top;\n",
       "    }\n",
       "\n",
       "    .dataframe thead th {\n",
       "        text-align: right;\n",
       "    }\n",
       "</style>\n",
       "<table border=\"1\" class=\"dataframe\">\n",
       "  <thead>\n",
       "    <tr style=\"text-align: right;\">\n",
       "      <th></th>\n",
       "      <th>Unnamed: 0</th>\n",
       "      <th>TV</th>\n",
       "      <th>radio</th>\n",
       "      <th>newspaper</th>\n",
       "      <th>sales</th>\n",
       "    </tr>\n",
       "  </thead>\n",
       "  <tbody>\n",
       "    <tr>\n",
       "      <th>0</th>\n",
       "      <td>1</td>\n",
       "      <td>230.1</td>\n",
       "      <td>37.8</td>\n",
       "      <td>69.2</td>\n",
       "      <td>22.1</td>\n",
       "    </tr>\n",
       "    <tr>\n",
       "      <th>1</th>\n",
       "      <td>2</td>\n",
       "      <td>44.5</td>\n",
       "      <td>39.3</td>\n",
       "      <td>45.1</td>\n",
       "      <td>10.4</td>\n",
       "    </tr>\n",
       "    <tr>\n",
       "      <th>2</th>\n",
       "      <td>3</td>\n",
       "      <td>17.2</td>\n",
       "      <td>45.9</td>\n",
       "      <td>69.3</td>\n",
       "      <td>9.3</td>\n",
       "    </tr>\n",
       "    <tr>\n",
       "      <th>3</th>\n",
       "      <td>4</td>\n",
       "      <td>151.5</td>\n",
       "      <td>41.3</td>\n",
       "      <td>58.5</td>\n",
       "      <td>18.5</td>\n",
       "    </tr>\n",
       "    <tr>\n",
       "      <th>4</th>\n",
       "      <td>5</td>\n",
       "      <td>180.8</td>\n",
       "      <td>10.8</td>\n",
       "      <td>58.4</td>\n",
       "      <td>12.9</td>\n",
       "    </tr>\n",
       "  </tbody>\n",
       "</table>\n",
       "</div>"
      ],
      "text/plain": [
       "   Unnamed: 0     TV  radio  newspaper  sales\n",
       "0           1  230.1   37.8       69.2   22.1\n",
       "1           2   44.5   39.3       45.1   10.4\n",
       "2           3   17.2   45.9       69.3    9.3\n",
       "3           4  151.5   41.3       58.5   18.5\n",
       "4           5  180.8   10.8       58.4   12.9"
      ]
     },
     "execution_count": 3,
     "metadata": {},
     "output_type": "execute_result"
    }
   ],
   "source": [
    "data.head()"
   ]
  },
  {
   "cell_type": "markdown",
   "metadata": {},
   "source": [
    "Pick Features"
   ]
  },
  {
   "cell_type": "code",
   "execution_count": 7,
   "metadata": {},
   "outputs": [],
   "source": [
    "# Get features (X)\n",
    "columns = ['TV', 'radio', 'newspaper']\n",
    "X = data[columns]\n",
    "\n",
    "# Get target\n",
    "y = data['sales']"
   ]
  },
  {
   "cell_type": "code",
   "execution_count": 13,
   "metadata": {},
   "outputs": [],
   "source": [
    "from sklearn.linear_model import LinearRegression\n",
    "from sklearn.model_selection import train_test_split\n",
    "import joblib"
   ]
  },
  {
   "cell_type": "code",
   "execution_count": 14,
   "metadata": {},
   "outputs": [],
   "source": [
    "# Train-test split\n",
    "X_train, X_test, y_train, y_test = train_test_split(X, y, test_size=0.4, random_state=42)"
   ]
  },
  {
   "cell_type": "code",
   "execution_count": 15,
   "metadata": {},
   "outputs": [
    {
     "data": {
      "text/plain": [
       "LinearRegression(copy_X=True, fit_intercept=True, n_jobs=None, normalize=False)"
      ]
     },
     "execution_count": 15,
     "metadata": {},
     "output_type": "execute_result"
    }
   ],
   "source": [
    "# Train your model\n",
    "model = LinearRegression()\n",
    "\n",
    "# Fit your model\n",
    "model.fit(X_train, y_train)"
   ]
  },
  {
   "cell_type": "code",
   "execution_count": 16,
   "metadata": {},
   "outputs": [
    {
     "data": {
      "text/plain": [
       "['advertising_model.sav']"
      ]
     },
     "execution_count": 16,
     "metadata": {},
     "output_type": "execute_result"
    }
   ],
   "source": [
    "# Save model\n",
    "filename = 'advertising_model.sav'\n",
    "joblib.dump(model, filename)"
   ]
  },
  {
   "cell_type": "code",
   "execution_count": 18,
   "metadata": {},
   "outputs": [
    {
     "name": "stdout",
     "output_type": "stream",
     "text": [
      "Collecting tpot\n",
      "  Downloading https://files.pythonhosted.org/packages/a5/29/f38a5751276cd901bca8f04ca9a98569a9d4eacd3236bc19a0bf0c834f74/TPOT-0.11.0.tar.gz (896kB)\n",
      "Requirement already satisfied: numpy>=1.16.3 in c:\\users\\lex\\anaconda3\\envs\\webapp-venv\\lib\\site-packages (from tpot) (1.17.4)\n",
      "Requirement already satisfied: scipy>=1.3.1 in c:\\users\\lex\\anaconda3\\envs\\webapp-venv\\lib\\site-packages (from tpot) (1.4.1)\n",
      "Requirement already satisfied: scikit-learn>=0.21.0 in c:\\users\\lex\\anaconda3\\envs\\webapp-venv\\lib\\site-packages (from tpot) (0.22)\n",
      "Collecting deap>=1.2\n",
      "  Downloading https://files.pythonhosted.org/packages/59/1a/830bdaae9b629f1b7627eec5d0c4845fad83206d087fa0d896392451e64e/deap-1.3.0-cp37-cp37m-win_amd64.whl (109kB)\n",
      "Collecting update_checker>=0.16\n",
      "  Downloading https://files.pythonhosted.org/packages/17/c9/ab11855af164d03be0ff4fddd4c46a5bd44799a9ecc1770e01a669c21168/update_checker-0.16-py2.py3-none-any.whl\n",
      "Collecting tqdm>=4.36.1\n",
      "  Downloading https://files.pythonhosted.org/packages/8c/c3/d049cf3fb31094ee045ec1ee29fffac218c91e82c8838c49ab4c3e52627b/tqdm-4.41.0-py2.py3-none-any.whl (56kB)\n",
      "Collecting stopit>=1.1.1\n",
      "  Downloading https://files.pythonhosted.org/packages/35/58/e8bb0b0fb05baf07bbac1450c447d753da65f9701f551dca79823ce15d50/stopit-1.1.2.tar.gz\n",
      "Requirement already satisfied: pandas>=0.24.2 in c:\\users\\lex\\anaconda3\\envs\\webapp-venv\\lib\\site-packages (from tpot) (0.25.3)\n",
      "Requirement already satisfied: joblib>=0.13.2 in c:\\users\\lex\\anaconda3\\envs\\webapp-venv\\lib\\site-packages (from tpot) (0.14.1)\n",
      "Requirement already satisfied: requests>=2.3.0 in c:\\users\\lex\\anaconda3\\envs\\webapp-venv\\lib\\site-packages (from update_checker>=0.16->tpot) (2.22.0)\n",
      "Requirement already satisfied: pytz>=2017.2 in c:\\users\\lex\\anaconda3\\envs\\webapp-venv\\lib\\site-packages (from pandas>=0.24.2->tpot) (2019.3)\n",
      "Requirement already satisfied: python-dateutil>=2.6.1 in c:\\users\\lex\\anaconda3\\envs\\webapp-venv\\lib\\site-packages (from pandas>=0.24.2->tpot) (2.8.1)\n",
      "Requirement already satisfied: certifi>=2017.4.17 in c:\\users\\lex\\anaconda3\\envs\\webapp-venv\\lib\\site-packages (from requests>=2.3.0->update_checker>=0.16->tpot) (2019.11.28)\n",
      "Requirement already satisfied: chardet<3.1.0,>=3.0.2 in c:\\users\\lex\\anaconda3\\envs\\webapp-venv\\lib\\site-packages (from requests>=2.3.0->update_checker>=0.16->tpot) (3.0.4)\n",
      "Requirement already satisfied: idna<2.9,>=2.5 in c:\\users\\lex\\anaconda3\\envs\\webapp-venv\\lib\\site-packages (from requests>=2.3.0->update_checker>=0.16->tpot) (2.8)\n",
      "Requirement already satisfied: urllib3!=1.25.0,!=1.25.1,<1.26,>=1.21.1 in c:\\users\\lex\\anaconda3\\envs\\webapp-venv\\lib\\site-packages (from requests>=2.3.0->update_checker>=0.16->tpot) (1.25.7)\n",
      "Requirement already satisfied: six>=1.5 in c:\\users\\lex\\anaconda3\\envs\\webapp-venv\\lib\\site-packages (from python-dateutil>=2.6.1->pandas>=0.24.2->tpot) (1.13.0)\n",
      "Building wheels for collected packages: tpot, stopit\n",
      "  Building wheel for tpot (setup.py): started\n",
      "  Building wheel for tpot (setup.py): finished with status 'done'\n",
      "  Created wheel for tpot: filename=TPOT-0.11.0-cp37-none-any.whl size=75689 sha256=43575230a403c9d936a84a4f4a37ce977e38d815702f8f7a8d6cf245af8b763e\n",
      "  Stored in directory: C:\\Users\\Lex\\AppData\\Local\\pip\\Cache\\wheels\\5e\\79\\3b\\49ccea9a29f28d0cdecbca22d71515c23bf45e1e65bc925cb8\n",
      "  Building wheel for stopit (setup.py): started\n",
      "  Building wheel for stopit (setup.py): finished with status 'done'\n",
      "  Created wheel for stopit: filename=stopit-1.1.2-cp37-none-any.whl size=11961 sha256=963bdcd7c9d47cc9a3d58b5aac4fc0a861b5a9f7eb6b043bcec49450c0a038db\n",
      "  Stored in directory: C:\\Users\\Lex\\AppData\\Local\\pip\\Cache\\wheels\\3c\\85\\2b\\2580190404636bfc63e8de3dff629c03bb795021e1983a6cc7\n",
      "Successfully built tpot stopit\n",
      "Installing collected packages: deap, update-checker, tqdm, stopit, tpot\n",
      "Successfully installed deap-1.3.0 stopit-1.1.2 tpot-0.11.0 tqdm-4.41.0 update-checker-0.16\n"
     ]
    }
   ],
   "source": [
    "# !pip install tpot\n",
    "from tpot import TPOTRegressor\n"
   ]
  }
 ],
 "metadata": {
  "kernelspec": {
   "display_name": "Python 3",
   "language": "python",
   "name": "python3"
  },
  "language_info": {
   "codemirror_mode": {
    "name": "ipython",
    "version": 3
   },
   "file_extension": ".py",
   "mimetype": "text/x-python",
   "name": "python",
   "nbconvert_exporter": "python",
   "pygments_lexer": "ipython3",
   "version": "3.7.5"
  }
 },
 "nbformat": 4,
 "nbformat_minor": 2
}
